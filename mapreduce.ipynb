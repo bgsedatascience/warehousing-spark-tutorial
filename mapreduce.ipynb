{
 "cells": [
  {
   "cell_type": "code",
   "execution_count": 2,
   "metadata": {},
   "outputs": [
    {
     "name": "stdout",
     "output_type": "stream",
     "text": [
      "Once deleted, variables cannot be recovered. Proceed (y/[n])? y\n"
     ]
    }
   ],
   "source": [
    "%reset"
   ]
  },
  {
   "cell_type": "code",
   "execution_count": 3,
   "metadata": {
    "autoscroll": false,
    "ein.hycell": false,
    "ein.tags": "worksheet-0",
    "slideshow": {
     "slide_type": "-"
    }
   },
   "outputs": [],
   "source": [
    "from pyspark.sql import SparkSession\n",
    "\n",
    "spark = SparkSession \\\n",
    "    .builder \\\n",
    "    .appName(\"PySpark Intro\") \\\n",
    "    .getOrCreate()"
   ]
  },
  {
   "cell_type": "markdown",
   "metadata": {
    "ein.tags": "worksheet-0",
    "slideshow": {
     "slide_type": "-"
    }
   },
   "source": [
    "## Map and Reduce\n",
    "\n",
    "We've talked about these concepts in the intro_python module, but we didn't talk explicity about reductions.\n",
    "\n",
    "MAP\n",
    "\n",
    "```python\n",
    "def squarer(a):\n",
    "    return a**2\n",
    "```\n",
    "\n",
    "REDUCE\n",
    "\n",
    "The prototypical reduce function is the sum function. A reducer takes two values: the first value is called an \"accumulator\" and the second value is the next value in the list. The goal of the reduce function is to transform the iterable into a new object that is \"accumulated\" as one iterates through the items in the iterable:\n",
    "\n",
    "```python\n",
    "def summer(a,b):\n",
    "    return a + b\n",
    "```"
   ]
  },
  {
   "cell_type": "code",
   "execution_count": 4,
   "metadata": {
    "autoscroll": false,
    "ein.hycell": false,
    "ein.tags": "worksheet-0",
    "slideshow": {
     "slide_type": "-"
    }
   },
   "outputs": [],
   "source": [
    "import pandas as pd\n",
    "\n",
    "orders = pd.read_csv('data/orders.csv').to_dict(orient='records')"
   ]
  },
  {
   "cell_type": "code",
   "execution_count": 9,
   "metadata": {},
   "outputs": [
    {
     "name": "stdout",
     "output_type": "stream",
     "text": [
      "2996\n",
      "<class 'dict'>\n",
      "19\n",
      "{'customer_number': 363, 'order_number': 10100, 'product_code': 'S18_1749', 'quantity_ordered': 30, 'price_each': 136.0, 'order_line_number': 3, 'order_date': '2003-01-06', 'required_date': '2003-01-13', 'shipped_date': '2003-01-10', 'status': 'Shipped', 'comments': nan, 'customer_name': 'Online Diecast Creations Co.', 'contact_last_name': 'Young', 'contact_first_name': 'Dorothy', 'city': 'Nashua', 'state': 'NH', 'country': 'USA', 'sales_rep_employee_number': 1216, 'credit_limit': 114200.0}\n"
     ]
    }
   ],
   "source": [
    "#exploration cell\n",
    "\n",
    "print(len(orders))\n",
    "print(type(orders[0]))\n",
    "print(len(orders[0]))\n",
    "print(orders[0])"
   ]
  },
  {
   "cell_type": "code",
   "execution_count": 10,
   "metadata": {
    "autoscroll": false,
    "ein.hycell": false,
    "ein.tags": "worksheet-0",
    "slideshow": {
     "slide_type": "-"
    }
   },
   "outputs": [],
   "source": [
    "# We will start with the basic reduce function in Python\n",
    "# NOTE: we have previously been using for comprehensions in python for mapping, \n",
    "# but there is also a built-in \"map\" function\n",
    "from functools import reduce"
   ]
  },
  {
   "cell_type": "code",
   "execution_count": 12,
   "metadata": {
    "autoscroll": false,
    "ein.hycell": false,
    "ein.tags": "worksheet-0",
    "slideshow": {
     "slide_type": "-"
    }
   },
   "outputs": [
    {
     "name": "stdout",
     "output_type": "stream",
     "text": [
      "<map object at 0x7fc8167b8860>\n"
     ]
    }
   ],
   "source": [
    "def make_total_sale(order):\n",
    "    return order['quantity_ordered'] * order['price_each']\n",
    "\n",
    "# What does this return???\n",
    "map(make_total_sale, orders)"
   ]
  },
  {
   "cell_type": "code",
   "execution_count": 15,
   "metadata": {
    "autoscroll": false,
    "ein.hycell": false,
    "ein.tags": "worksheet-0",
    "slideshow": {
     "slide_type": "-"
    }
   },
   "outputs": [
    {
     "name": "stdout",
     "output_type": "stream",
     "text": [
      "{'customer_number': 363, 'order_number': 10100, 'product_code': 'S18_1749', 'quantity_ordered': 30, 'price_each': 136.0, 'order_line_number': 3, 'order_date': '2003-01-06', 'required_date': '2003-01-13', 'shipped_date': '2003-01-10', 'status': 'Shipped', 'comments': nan, 'customer_name': 'Online Diecast Creations Co.', 'contact_last_name': 'Young', 'contact_first_name': 'Dorothy', 'city': 'Nashua', 'state': 'NH', 'country': 'USA', 'sales_rep_employee_number': 1216, 'credit_limit': 114200.0}\n"
     ]
    },
    {
     "data": {
      "text/plain": [
       "9604190.609999985"
      ]
     },
     "execution_count": 15,
     "metadata": {},
     "output_type": "execute_result"
    }
   ],
   "source": [
    "def summer(a,b):\n",
    "    return a + b\n",
    "\n",
    "print(orders[0])\n",
    "\n",
    "# Get the total sales!\n",
    "#map(make_total_sale,orders)\n",
    "reduce(summer, map(make_total_sale, orders))"
   ]
  },
  {
   "cell_type": "code",
   "execution_count": 16,
   "metadata": {
    "autoscroll": false,
    "ein.hycell": false,
    "ein.tags": "worksheet-0",
    "slideshow": {
     "slide_type": "-"
    }
   },
   "outputs": [
    {
     "data": {
      "text/plain": [
       "9604190.609999985"
      ]
     },
     "execution_count": 16,
     "metadata": {},
     "output_type": "execute_result"
    }
   ],
   "source": [
    "# Note, reduce takes an optional \"initial value\":\n",
    "\n",
    "# See what happens when you change it from 0!\n",
    "reduce(summer, map(make_total_sale, orders), 0.0)"
   ]
  },
  {
   "cell_type": "code",
   "execution_count": 26,
   "metadata": {
    "autoscroll": false,
    "ein.hycell": false,
    "ein.tags": "worksheet-0",
    "slideshow": {
     "slide_type": "-"
    }
   },
   "outputs": [
    {
     "name": "stdout",
     "output_type": "stream",
     "text": [
      "10100\n",
      "10101\n"
     ]
    }
   ],
   "source": [
    "# Challenge: make a \"map\" and a \"reduce\" that gets the max number of items ordered (in one line item)!\n",
    "# Your code here\n",
    "\n",
    "def get_qty(order):\n",
    "    return order['quantity_ordered']\n",
    "\n",
    "#reduce(max, map(get_qty, orders))\n",
    "\n",
    "#len(orders)\n",
    "print(orders[0]['order_number'])\n",
    "print(orders[1]['order_number'])"
   ]
  },
  {
   "cell_type": "code",
   "execution_count": 22,
   "metadata": {},
   "outputs": [
    {
     "name": "stdout",
     "output_type": "stream",
     "text": [
      "97\n"
     ]
    }
   ],
   "source": [
    "#checking\n",
    "init = 0\n",
    "for i in range(0,len(orders)):\n",
    "    if orders[i]['quantity_ordered'] > init:\n",
    "        init = orders[i]['quantity_ordered']\n",
    "        \n",
    "print(init)"
   ]
  },
  {
   "cell_type": "code",
   "execution_count": 27,
   "metadata": {
    "autoscroll": false,
    "ein.hycell": false,
    "ein.tags": "worksheet-0",
    "slideshow": {
     "slide_type": "-"
    }
   },
   "outputs": [
    {
     "data": {
      "text/plain": [
       "{'line_items': [{'product_code': 'S18_1749',\n",
       "   'quantity_ordered': 30,\n",
       "   'price_each': 136.0,\n",
       "   'order_line_number': 3},\n",
       "  {'product_code': 'S18_2248',\n",
       "   'quantity_ordered': 50,\n",
       "   'price_each': 55.09,\n",
       "   'order_line_number': 2},\n",
       "  {'product_code': 'S18_4409',\n",
       "   'quantity_ordered': 22,\n",
       "   'price_each': 75.46,\n",
       "   'order_line_number': 4},\n",
       "  {'product_code': 'S24_3969',\n",
       "   'quantity_ordered': 49,\n",
       "   'price_each': 35.29,\n",
       "   'order_line_number': 1}],\n",
       " 'order_number': 10100,\n",
       " 'order_date': '2003-01-06',\n",
       " 'required_date': '2003-01-13',\n",
       " 'shipped_date': '2003-01-10',\n",
       " 'status': 'Shipped',\n",
       " 'comments': None,\n",
       " 'sales_rep_employee_number': 1216,\n",
       " 'customer': {'customer_number': 363,\n",
       "  'customer_name': 'Online Diecast Creations Co.',\n",
       "  'contact_last_name': 'Young',\n",
       "  'contact_first_name': 'Dorothy',\n",
       "  'country': 'USA',\n",
       "  'city': 'Nashua',\n",
       "  'state': 'NH',\n",
       "  'credit_limit': 114200.0}}"
      ]
     },
     "execution_count": 27,
     "metadata": {},
     "output_type": "execute_result"
    }
   ],
   "source": [
    "# Sometimes our data comes in JSON and it might be nested. Take a look at this format: \n",
    "import json\n",
    "\n",
    "with open('data/orders.json') as f:\n",
    "    orders = [json.loads(l) for l in f]\n",
    "\n",
    "orders[0]"
   ]
  },
  {
   "cell_type": "code",
   "execution_count": 42,
   "metadata": {
    "autoscroll": false,
    "ein.hycell": false,
    "ein.tags": "worksheet-0",
    "slideshow": {
     "slide_type": "-"
    }
   },
   "outputs": [
    {
     "data": {
      "text/plain": [
       "9604190.609999985"
      ]
     },
     "execution_count": 42,
     "metadata": {},
     "output_type": "execute_result"
    }
   ],
   "source": [
    "# Challenge: Find the sum of the total number of sales with this new format.\n",
    "# Everything should be accomplished in a map and then a reduce:\n",
    "\n",
    "# Your code here\n",
    "def foo(o):\n",
    "    return o['line_items']\n",
    "\n",
    "from operator import add\n",
    "\n",
    "reduce(add, map(make_total_sale, (reduce(add, map(foo,orders)))))\n",
    "#reduce(add,map(foo,orders))\n",
    "#foo(orders[0])"
   ]
  },
  {
   "cell_type": "code",
   "execution_count": 70,
   "metadata": {
    "autoscroll": false,
    "ein.hycell": false,
    "ein.tags": "worksheet-0",
    "slideshow": {
     "slide_type": "-"
    }
   },
   "outputs": [
    {
     "name": "stdout",
     "output_type": "stream",
     "text": [
      "root\n",
      " |-- comments: string (nullable = true)\n",
      " |-- customer: struct (nullable = true)\n",
      " |    |-- city: string (nullable = true)\n",
      " |    |-- contact_first_name: string (nullable = true)\n",
      " |    |-- contact_last_name: string (nullable = true)\n",
      " |    |-- country: string (nullable = true)\n",
      " |    |-- credit_limit: double (nullable = true)\n",
      " |    |-- customer_name: string (nullable = true)\n",
      " |    |-- customer_number: long (nullable = true)\n",
      " |    |-- state: string (nullable = true)\n",
      " |-- line_items: array (nullable = true)\n",
      " |    |-- element: struct (containsNull = true)\n",
      " |    |    |-- order_line_number: long (nullable = true)\n",
      " |    |    |-- price_each: double (nullable = true)\n",
      " |    |    |-- product_code: string (nullable = true)\n",
      " |    |    |-- quantity_ordered: long (nullable = true)\n",
      " |-- order_date: string (nullable = true)\n",
      " |-- order_number: long (nullable = true)\n",
      " |-- required_date: string (nullable = true)\n",
      " |-- sales_rep_employee_number: long (nullable = true)\n",
      " |-- shipped_date: string (nullable = true)\n",
      " |-- status: string (nullable = true)\n",
      "\n"
     ]
    }
   ],
   "source": [
    "# Spark lets us read JSON files and create dataframes with nested items!\n",
    "\n",
    "#orders = spark.read.json('data/orders.json')\n",
    "\n",
    "orders.printSchema()\n",
    "#orders.count()\n",
    "#orders.columns"
   ]
  },
  {
   "cell_type": "code",
   "execution_count": 54,
   "metadata": {
    "autoscroll": false,
    "ein.hycell": false,
    "ein.tags": "worksheet-0",
    "slideshow": {
     "slide_type": "-"
    }
   },
   "outputs": [
    {
     "data": {
      "text/plain": [
       "[Row(comments=None, customer=Row(city='Charleroi', contact_first_name='Pascale ', contact_last_name='Cartrain', country='Belgium', credit_limit=23500.0, customer_name='Royale Belge', customer_number=381, state=None), line_items=[Row(order_line_number=1, price_each=60.28, product_code='S32_3207', quantity_ordered=27)], order_date='2003-04-11', order_number=10116, required_date='2003-04-19', sales_rep_employee_number=1401, shipped_date='2003-04-13', status='Shipped'),\n",
       " Row(comments=None, customer=Row(city='Charleroi', contact_first_name='Pascale ', contact_last_name='Cartrain', country='Belgium', credit_limit=23500.0, customer_name='Royale Belge', customer_number=381, state=None), line_items=[Row(order_line_number=1, price_each=56.41, product_code='S32_4289', quantity_ordered=20)], order_date='2003-08-13', order_number=10144, required_date='2003-08-21', sales_rep_employee_number=1401, shipped_date='2003-08-14', status='Shipped'),\n",
       " Row(comments=None, customer=Row(city='Bruxelles', contact_first_name='Catherine ', contact_last_name='Dewey', country='Belgium', credit_limit=79900.0, customer_name='Petit Auto', customer_number=314, state=None), line_items=[Row(order_line_number=3, price_each=133.86, product_code='S18_3140', quantity_ordered=33), Row(order_line_number=5, price_each=89.75, product_code='S18_3259', quantity_ordered=23), Row(order_line_number=2, price_each=84.26, product_code='S18_4522', quantity_ordered=39), Row(order_line_number=1, price_each=113.06, product_code='S24_2011', quantity_ordered=49), Row(order_line_number=4, price_each=69.29, product_code='S700_1938', quantity_ordered=23)], order_date='2004-02-18', order_number=10221, required_date='2004-02-26', sales_rep_employee_number=1401, shipped_date='2004-02-19', status='Shipped'),\n",
       " Row(comments=None, customer=Row(city='Bruxelles', contact_first_name='Catherine ', contact_last_name='Dewey', country='Belgium', credit_limit=79900.0, customer_name='Petit Auto', customer_number=314, state=None), line_items=[Row(order_line_number=4, price_each=136.0, product_code='S10_4757', quantity_ordered=30), Row(order_line_number=2, price_each=84.3, product_code='S18_3029', quantity_ordered=34), Row(order_line_number=13, price_each=117.47, product_code='S18_3140', quantity_ordered=40), Row(order_line_number=15, price_each=87.73, product_code='S18_3259', quantity_ordered=47), Row(order_line_number=1, price_each=105.87, product_code='S18_3856', quantity_ordered=50), Row(order_line_number=12, price_each=72.85, product_code='S18_4522', quantity_ordered=33), Row(order_line_number=11, price_each=103.23, product_code='S24_2011', quantity_ordered=22), Row(order_line_number=6, price_each=84.08, product_code='S24_3151', quantity_ordered=27), Row(order_line_number=3, price_each=83.86, product_code='S24_3816', quantity_ordered=48), Row(order_line_number=7, price_each=66.0, product_code='S700_1138', quantity_ordered=21), Row(order_line_number=14, price_each=77.95, product_code='S700_1938', quantity_ordered=21), Row(order_line_number=5, price_each=57.82, product_code='S700_2610', quantity_ordered=42), Row(order_line_number=8, price_each=91.15, product_code='S700_3505', quantity_ordered=40), Row(order_line_number=9, price_each=89.38, product_code='S700_3962', quantity_ordered=26), Row(order_line_number=10, price_each=51.32, product_code='S72_3212', quantity_ordered=37)], order_date='2004-07-21', order_number=10273, required_date='2004-07-28', sales_rep_employee_number=1401, shipped_date='2004-07-22', status='Shipped'),\n",
       " Row(comments=None, customer=Row(city='Charleroi', contact_first_name='Pascale ', contact_last_name='Cartrain', country='Belgium', credit_limit=23500.0, customer_name='Royale Belge', customer_number=381, state=None), line_items=[Row(order_line_number=1, price_each=137.19, product_code='S18_1662', quantity_ordered=41), Row(order_line_number=3, price_each=80.86, product_code='S18_3029', quantity_ordered=28), Row(order_line_number=2, price_each=93.17, product_code='S18_3856', quantity_ordered=45)], order_date='2004-11-22', order_number=10338, required_date='2004-12-02', sales_rep_employee_number=1401, shipped_date='2004-11-27', status='Shipped'),\n",
       " Row(comments=None, customer=Row(city='Charleroi', contact_first_name='Pascale ', contact_last_name='Cartrain', country='Belgium', credit_limit=23500.0, customer_name='Royale Belge', customer_number=381, state=None), line_items=[Row(order_line_number=3, price_each=116.65, product_code='S18_1984', quantity_ordered=34), Row(order_line_number=2, price_each=105.6, product_code='S18_2870', quantity_ordered=49), Row(order_line_number=1, price_each=154.1, product_code='S18_3232', quantity_ordered=34)], order_date='2005-01-10', order_number=10366, required_date='2005-01-19', sales_rep_employee_number=1401, shipped_date='2005-01-12', status='Shipped'),\n",
       " Row(comments=None, customer=Row(city='Bruxelles', contact_first_name='Catherine ', contact_last_name='Dewey', country='Belgium', credit_limit=79900.0, customer_name='Petit Auto', customer_number=314, state=None), line_items=[Row(order_line_number=1, price_each=89.15, product_code='S18_2949', quantity_ordered=10), Row(order_line_number=3, price_each=56.21, product_code='S18_2957', quantity_ordered=31), Row(order_line_number=2, price_each=98.44, product_code='S18_3136', quantity_ordered=21), Row(order_line_number=5, price_each=80.36, product_code='S18_3320', quantity_ordered=21), Row(order_line_number=4, price_each=78.89, product_code='S24_4258', quantity_ordered=28)], order_date='2005-05-30', order_number=10423, required_date='2005-06-05', sales_rep_employee_number=1401, shipped_date=None, status='In Process')]"
      ]
     },
     "execution_count": 54,
     "metadata": {},
     "output_type": "execute_result"
    }
   ],
   "source": [
    "# All \"DataFrames\" in Spark are backed by an RDD. \n",
    "# We can access the RDD to perform simple operations, just like in python,\n",
    "# on the underlying data:\n",
    "\n",
    "# Spark performs all operations lazily. \"collect\" tells it to gather all the items\n",
    "# in a list and send it back to the Driver node. \n",
    "# If you try and collect too much data, your memory will blow up!\n",
    "\n",
    "orders.rdd.filter(lambda r: r.customer.country == 'Belgium').collect()"
   ]
  },
  {
   "cell_type": "code",
   "execution_count": 184,
   "metadata": {
    "autoscroll": false,
    "ein.hycell": false,
    "ein.tags": "worksheet-0",
    "slideshow": {
     "slide_type": "-"
    }
   },
   "outputs": [
    {
     "data": {
      "text/plain": [
       "9604190.609999985"
      ]
     },
     "execution_count": 184,
     "metadata": {},
     "output_type": "execute_result"
    }
   ],
   "source": [
    "# Challenge\n",
    "\n",
    "# Let's try and repeat the previous operation, of finding the total sales, \n",
    "# but now with the spark RDD. \n",
    "# You will need to read the Spark Documentation and find the following functions: map, reduce\n",
    "# which are available as methods directly on the RDD!\n",
    "# play around: \n",
    "\n",
    "#orders.take(1)[0]\n",
    "orders.select(\"line_items\").rdd.flatMap(lambda x: x).collect()\n",
    "\n",
    "# your code\n",
    "\n",
    "orders.rdd.flatMap(lambda x: x['line_items']) \\\n",
    "    .map(lambda x: x['quantity_ordered'] * x['price_each']) \\\n",
    "    .reduce(lambda a,b: a + b)\n"
   ]
  },
  {
   "cell_type": "code",
   "execution_count": 218,
   "metadata": {
    "autoscroll": false,
    "ein.hycell": false,
    "ein.tags": "worksheet-0",
    "slideshow": {
     "slide_type": "-"
    }
   },
   "outputs": [
    {
     "data": {
      "text/plain": [
       "[Row(comments=None, customer=Row(city='Nashua', contact_first_name='Dorothy', contact_last_name='Young', country='USA', credit_limit=114200.0, customer_name='Online Diecast Creations Co.', customer_number=363, state='NH'), line_items=[Row(order_line_number=3, price_each=136.0, product_code='S18_1749', quantity_ordered=30), Row(order_line_number=2, price_each=55.09, product_code='S18_2248', quantity_ordered=50), Row(order_line_number=4, price_each=75.46, product_code='S18_4409', quantity_ordered=22), Row(order_line_number=1, price_each=35.29, product_code='S24_3969', quantity_ordered=49)], order_date='2003-01-06', order_number=10100, required_date='2003-01-13', sales_rep_employee_number=1216, shipped_date='2003-01-10', status='Shipped')]"
      ]
     },
     "execution_count": 218,
     "metadata": {},
     "output_type": "execute_result"
    }
   ],
   "source": [
    "# Spark thinks about where the Data lives. \n",
    "# RDD's have a concept of \"key, value\"\n",
    "# This is implemented simply as a Tuple: (k,v)\n",
    "\n",
    "# If we create an RDD that takes that form, a tuple of (k,v)\n",
    "# we can use operations like \"reduceByKey\"!\n",
    "\n",
    "\n",
    "# Challenge\n",
    "\n",
    "# Get the total sales by country, by first mapping your RDD into a tuple (k,v) where\n",
    "# the Key is the country, then reducing by summing the total sales. \n",
    "\n",
    "\n",
    "orders.rdd \\\n",
    "    .map(lambda x: (x['customer']['country'], \\\n",
    "                    [i['quantity_ordered']*i['price_each'] for i in x['line_items']])) \\\n",
    "    .map(lambda x: (x[0], sum(x[1]))) \\\n",
    "    .reduceByKey(lambda a,b: a + b).collect()\n",
    "\n",
    "orders.rdd.take(1)\n",
    "\n",
    "#ok, I like list comprehension now, this was good"
   ]
  },
  {
   "cell_type": "markdown",
   "metadata": {
    "ein.tags": "worksheet-0",
    "slideshow": {
     "slide_type": "-"
    }
   },
   "source": [
    "## Parquet\n",
    "\n",
    "Parquet is another data format that plays well with Spark. \n",
    " \n",
    "It's a \"flat file\" format, like JSON or CSV, but it contains extra information about types, allows for \"predicate pushdown\", is column-oriented, and has first-class support for nested columns!\n",
    "\n",
    "Predicate pushdown means that Spark doesn't have to read all the data from the disk! It can avoid certain sections of disk altogether because Parquet knows that we don't want that data."
   ]
  },
  {
   "cell_type": "code",
   "execution_count": 213,
   "metadata": {
    "autoscroll": false,
    "ein.hycell": false,
    "ein.tags": "worksheet-0",
    "slideshow": {
     "slide_type": "-"
    }
   },
   "outputs": [],
   "source": [
    "orders = spark.read.parquet('data/orders')"
   ]
  },
  {
   "cell_type": "code",
   "execution_count": 216,
   "metadata": {
    "autoscroll": false,
    "ein.hycell": false,
    "ein.tags": "worksheet-0",
    "slideshow": {
     "slide_type": "-"
    }
   },
   "outputs": [
    {
     "name": "stdout",
     "output_type": "stream",
     "text": [
      "+-------------------+\n",
      "|count(order_number)|\n",
      "+-------------------+\n",
      "|                  7|\n",
      "+-------------------+\n",
      "\n"
     ]
    }
   ],
   "source": [
    "# Here, Spark won't read any information about countries other than Belgium!\n",
    "# NOTE: the nested type!\n",
    "\n",
    "orders.createOrReplaceTempView('orders')\n",
    "\n",
    "res = spark.sql(\"\"\"\n",
    "SELECT count(order_number)\n",
    "FROM orders \n",
    "WHERE customer.country = 'Belgium'\n",
    "\"\"\".strip())\n",
    "\n",
    "res.show()"
   ]
  },
  {
   "cell_type": "markdown",
   "metadata": {
    "ein.tags": "worksheet-0",
    "slideshow": {
     "slide_type": "-"
    }
   },
   "source": [
    "## Nested types in SQL!\n",
    "\n",
    "How do we deal with these pesky nested types now? \n",
    "\n",
    "Spark SQL gives us the Map/Reduce formulas to deal with nested \"Array\" types!\n",
    "\n",
    "map = TRANSFORM\n",
    "reduce = AGGREGATE\n",
    "\n",
    "You can look at the documentation to see exactly how they work. "
   ]
  },
  {
   "cell_type": "code",
   "execution_count": null,
   "metadata": {},
   "outputs": [],
   "source": []
  },
  {
   "cell_type": "code",
   "execution_count": null,
   "metadata": {},
   "outputs": [],
   "source": []
  },
  {
   "cell_type": "code",
   "execution_count": 294,
   "metadata": {
    "autoscroll": false,
    "ein.hycell": false,
    "ein.tags": "worksheet-0",
    "slideshow": {
     "slide_type": "-"
    }
   },
   "outputs": [
    {
     "name": "stdout",
     "output_type": "stream",
     "text": [
      "+----------------+--------------------+\n",
      "|             qty|               price|\n",
      "+----------------+--------------------+\n",
      "|[30, 50, 22, 49]|[136.0, 55.09, 75...|\n",
      "|[25, 26, 45, 46]|[108.06, 167.06, ...|\n",
      "+----------------+--------------------+\n",
      "\n"
     ]
    }
   ],
   "source": [
    "# Bonus Challenge: \n",
    "\n",
    "# Try to reproduce what we did before, getting the total sales, in Spark SQL, using TRANSFORM and\n",
    "# AGGREGATE on the individuals \"line_items\" and then summing over the rows to get the total sales\n",
    "\n",
    "orders.createOrReplaceTempView('orders')\n",
    "\n",
    "\"\"\"\n",
    "orders.rdd.flatMap(lambda x: x['line_items']) \\\n",
    "    .map(lambda x: x['quantity_ordered'] * x['price_each']) \\\n",
    "    .reduce(lambda a,b: a + b)\n",
    "\"\"\"\n",
    "\n",
    "res = spark.sql(\"\"\"\n",
    "\n",
    "SELECT TRANSFORM(line_items.quantity_ordered, x -> x) as qty, TRANSFORM(line_items.price_each, x -> x) as price\n",
    "FROM orders\n",
    "WHERE order_number in (10100, 10101)\n",
    "\"\"\".strip())\n",
    "\n",
    "res.show()\n",
    "\n",
    "#as far as I got..."
   ]
  }
 ],
 "metadata": {
  "kernelspec": {
   "display_name": "Python 3",
   "language": "python",
   "name": "python3"
  },
  "language_info": {
   "codemirror_mode": {
    "name": "ipython",
    "version": 3
   },
   "file_extension": ".py",
   "mimetype": "text/x-python",
   "name": "python",
   "nbconvert_exporter": "python",
   "pygments_lexer": "ipython3",
   "version": "3.7.3"
  },
  "name": "mapreduce.ipynb"
 },
 "nbformat": 4,
 "nbformat_minor": 2
}
