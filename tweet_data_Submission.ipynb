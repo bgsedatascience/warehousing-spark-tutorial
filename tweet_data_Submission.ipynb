{
 "cells": [
  {
   "cell_type": "code",
   "execution_count": null,
   "metadata": {},
   "outputs": [],
   "source": [
    "from pyspark.sql import SparkSession\n",
    "\n",
    "spark = SparkSession \\\n",
    "    .builder \\\n",
    "    .appName(\"PySpark Intro\") \\\n",
    "    .getOrCreate()"
   ]
  },
  {
   "cell_type": "code",
   "execution_count": null,
   "metadata": {},
   "outputs": [],
   "source": [
    "tweets = spark.read.options(samplingRatio=0.01).json('gs://bgse-datawarehousing-random-tweets')\n",
    "tweets.printSchema()"
   ]
  },
  {
   "cell_type": "code",
   "execution_count": null,
   "metadata": {},
   "outputs": [],
   "source": [
    "import itertools as it\n",
    "import numpy as np\n",
    "from scipy import sparse\n",
    "import pandas as pd\n",
    "\n",
    "intermediate = tweets.rdd \\\n",
    "    .filter(lambda t: (t.entities is not None) and (len(t.entities.hashtags)>=2)) \\\n",
    "    .map(lambda t: [k.text.lower() for k in t.entities.hashtags]) \\\n",
    "    .flatMap(lambda t: it.permutations(t,2)) \\\n",
    "    .map(lambda t: (t,1)) \\\n",
    "    .reduceByKey(lambda a,b:a+b).cache()\n",
    "index_list = intermediate \\\n",
    "    .map(lambda t: t[0][0]) \\\n",
    "    .collect()\n",
    "dict_index = dict.fromkeys(index_list)\n",
    "val = 0\n",
    "for i in dict_index:\n",
    "    dict_index[i] = val\n",
    "    val += 1"
   ]
  },
  {
   "cell_type": "code",
   "execution_count": null,
   "metadata": {},
   "outputs": [],
   "source": [
    "matrix = intermediate \\\n",
    "    .map(lambda t: [t[0][0], t[0][1], t[1]]) \\\n",
    "    .map(lambda t: (dict_index[t[0]],dict_index[t[1]],t[2])) \\\n",
    "    .map(lambda t: sparse.coo_matrix(([t[2]], ([t[0]], [t[1]])), shape = (len(dict_index),len(dict_index)))) \\\n",
    "    .reduce(lambda a,b: a+b)"
   ]
  }
 ],
 "metadata": {
  "kernelspec": {
   "display_name": "Python 3",
   "language": "python",
   "name": "python3"
  },
  "language_info": {
   "codemirror_mode": {
    "name": "ipython",
    "version": 3
   },
   "file_extension": ".py",
   "mimetype": "text/x-python",
   "name": "python",
   "nbconvert_exporter": "python",
   "pygments_lexer": "ipython3",
   "version": "3.7.1"
  }
 },
 "nbformat": 4,
 "nbformat_minor": 2
}
