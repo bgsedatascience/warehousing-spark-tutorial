{
 "cells": [
  {
   "cell_type": "code",
   "execution_count": 2,
   "metadata": {},
   "outputs": [
    {
     "ename": "ModuleNotFoundError",
     "evalue": "No module named 'pyspark'",
     "output_type": "error",
     "traceback": [
      "\u001b[0;31m---------------------------------------------------------------------------\u001b[0m",
      "\u001b[0;31mModuleNotFoundError\u001b[0m                       Traceback (most recent call last)",
      "\u001b[0;32m<ipython-input-2-773b670d0ce4>\u001b[0m in \u001b[0;36m<module>\u001b[0;34m\u001b[0m\n\u001b[0;32m----> 1\u001b[0;31m \u001b[0;32mfrom\u001b[0m \u001b[0mpyspark\u001b[0m\u001b[0;34m.\u001b[0m\u001b[0msql\u001b[0m \u001b[0;32mimport\u001b[0m \u001b[0mSparkSession\u001b[0m\u001b[0;34m\u001b[0m\u001b[0;34m\u001b[0m\u001b[0m\n\u001b[0m\u001b[1;32m      2\u001b[0m \u001b[0;32mimport\u001b[0m \u001b[0mpandas\u001b[0m \u001b[0;32mas\u001b[0m \u001b[0mpd\u001b[0m\u001b[0;34m\u001b[0m\u001b[0;34m\u001b[0m\u001b[0m\n\u001b[1;32m      3\u001b[0m \u001b[0;32mimport\u001b[0m \u001b[0mnumpy\u001b[0m \u001b[0;32mas\u001b[0m \u001b[0mnp\u001b[0m\u001b[0;34m\u001b[0m\u001b[0;34m\u001b[0m\u001b[0m\n\u001b[1;32m      4\u001b[0m \u001b[0;32mimport\u001b[0m \u001b[0mscipy\u001b[0m\u001b[0;34m\u001b[0m\u001b[0;34m\u001b[0m\u001b[0m\n\u001b[1;32m      5\u001b[0m \u001b[0;32mfrom\u001b[0m \u001b[0mitertools\u001b[0m \u001b[0;32mimport\u001b[0m \u001b[0mpermutations\u001b[0m\u001b[0;34m\u001b[0m\u001b[0;34m\u001b[0m\u001b[0m\n",
      "\u001b[0;31mModuleNotFoundError\u001b[0m: No module named 'pyspark'"
     ]
    }
   ],
   "source": [
    "from pyspark.sql import SparkSession\n",
    "import pandas as pd\n",
    "import numpy as np\n",
    "import scipy\n",
    "from itertools import permutations\n",
    "\n",
    "from scipy.sparse import coo_matrix\n",
    "from google.cloud import storage\n",
    "\n",
    "import json \n",
    "import datetime as dt\n"
   ]
  },
  {
   "cell_type": "code",
   "execution_count": 3,
   "metadata": {},
   "outputs": [
    {
     "ename": "NameError",
     "evalue": "name 'storage' is not defined",
     "output_type": "error",
     "traceback": [
      "\u001b[0;31m---------------------------------------------------------------------------\u001b[0m",
      "\u001b[0;31mNameError\u001b[0m                                 Traceback (most recent call last)",
      "\u001b[0;32m<ipython-input-3-45c36de5f852>\u001b[0m in \u001b[0;36m<module>\u001b[0;34m\u001b[0m\n\u001b[1;32m      1\u001b[0m \u001b[0;31m# Create the file list\u001b[0m\u001b[0;34m\u001b[0m\u001b[0;34m\u001b[0m\u001b[0;34m\u001b[0m\u001b[0m\n\u001b[0;32m----> 2\u001b[0;31m \u001b[0mclient\u001b[0m \u001b[0;34m=\u001b[0m \u001b[0mstorage\u001b[0m\u001b[0;34m.\u001b[0m\u001b[0mClient\u001b[0m\u001b[0;34m(\u001b[0m\u001b[0;34m)\u001b[0m\u001b[0;34m\u001b[0m\u001b[0;34m\u001b[0m\u001b[0m\n\u001b[0m\u001b[1;32m      3\u001b[0m \u001b[0mbucket\u001b[0m \u001b[0;34m=\u001b[0m \u001b[0mclient\u001b[0m\u001b[0;34m.\u001b[0m\u001b[0mbucket\u001b[0m\u001b[0;34m(\u001b[0m\u001b[0;34m'bgse-datawarehousing-random-tweets'\u001b[0m\u001b[0;34m)\u001b[0m\u001b[0;34m\u001b[0m\u001b[0;34m\u001b[0m\u001b[0m\n\u001b[1;32m      4\u001b[0m \u001b[0mjsons_list\u001b[0m \u001b[0;34m=\u001b[0m \u001b[0;34m[\u001b[0m\u001b[0;34m]\u001b[0m\u001b[0;34m\u001b[0m\u001b[0;34m\u001b[0m\u001b[0m\n\u001b[1;32m      5\u001b[0m \u001b[0;32mfor\u001b[0m \u001b[0mblob\u001b[0m \u001b[0;32min\u001b[0m \u001b[0mbucket\u001b[0m\u001b[0;34m.\u001b[0m\u001b[0mlist_blobs\u001b[0m\u001b[0;34m(\u001b[0m\u001b[0mprefix\u001b[0m \u001b[0;34m=\u001b[0m \u001b[0;34m''\u001b[0m\u001b[0;34m)\u001b[0m\u001b[0;34m:\u001b[0m\u001b[0;34m\u001b[0m\u001b[0;34m\u001b[0m\u001b[0m\n",
      "\u001b[0;31mNameError\u001b[0m: name 'storage' is not defined"
     ]
    }
   ],
   "source": [
    "#  Create the file list \n",
    "client = storage.Client()\n",
    "bucket = client.bucket('bgse-datawarehousing-random-tweets')\n",
    "jsons_list = []\n",
    "for blob in bucket.list_blobs(prefix = ''):\n",
    "    jsons_list.append('gs://bgse-datawarehousing-random-tweets/'+blob.name)\n",
    "\n",
    "#  How many of the datasets I want to read\n",
    "file_no = 5\n",
    "\n",
    "#  Convert the first file_no of the JSON files into a Spark dataframe\n",
    "dataset = spark.read.json(jsons_list[0:file_no])\n",
    "\n",
    "#  Extract the list of all the possible permutations of 2 hashtags from each tweet, then reduced to get the # of \n",
    "#  Times each permutation happens across all tweets\n",
    "hash_perm = dataset.rdd \\\n",
    "        .filter(lambda r: ((r.entities is not None) and (len(r.entities.hashtags) > 1))) \\\n",
    "        .map(lambda r: [i.text.lower() for i in r.entities.hashtags]) \\\n",
    "        .flatMap(lambda r: permutations(r, 2)) \\\n",
    "        .map(lambda r: (r, 1)) \\\n",
    "        .reduceByKey(lambda a, b: a + b) \\\n",
    "        .map(lambda r: (r[0][0], r[0][1], r[1])) \\\n",
    "        .collect()\n",
    "\n",
    "\n",
    "#  Create the dictionary with all the unique hashtags in the tweets\n",
    "hashtags = sorted(list(set([x[0] for x in hash_perm])))\n",
    "dict_hash = {hashtags[i] : i for i in range(0, len(hashtags))}\n",
    "\n",
    "#  Create rows, columns and data\n",
    "row = np.array([dict_hash[i[0]] for i in hash_perm])\n",
    "column = np.array([dict_hash[i[1]] for i in hash_perm])\n",
    "data = np.array([i[2] for i in hash_perm])\n",
    "# Create the sparse matrix\n",
    "matrix_hashtags = coo_matrix((data, (row,column)),\n",
    "                    shape=(len(dict_hash),\n",
    "                           len(dict_hash)))\n",
    "#  Save it to a file\n",
    "scipy.sparse.save_npz(\"matrix_hashtags.npz\", matrix_hashtags, compressed=True)"
   ]
  }
 ],
 "metadata": {
  "kernelspec": {
   "display_name": "Python 3",
   "language": "python",
   "name": "python3"
  },
  "language_info": {
   "codemirror_mode": {
    "name": "ipython",
    "version": 3
   },
   "file_extension": ".py",
   "mimetype": "text/x-python",
   "name": "python",
   "nbconvert_exporter": "python",
   "pygments_lexer": "ipython3",
   "version": "3.7.3"
  }
 },
 "nbformat": 4,
 "nbformat_minor": 2
}
